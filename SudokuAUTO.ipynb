{
 "cells": [
  {
   "cell_type": "code",
   "execution_count": 3,
   "metadata": {},
   "outputs": [
    {
     "name": "stdout",
     "output_type": "stream",
     "text": [
      "Sudoku resuelto (método de eliminación simple):\n",
      "5 3 4 6 7 8 9 1 2\n",
      "6 7 2 1 9 5 3 4 8\n",
      "1 9 8 3 4 2 5 6 7\n",
      "8 5 9 7 6 1 4 2 3\n",
      "4 2 6 8 5 3 7 9 1\n",
      "7 1 3 9 2 4 8 5 6\n",
      "9 6 1 5 3 7 2 8 4\n",
      "2 8 7 4 1 9 6 3 5\n",
      "3 4 5 2 8 6 1 7 9\n"
     ]
    }
   ],
   "source": [
    "import numpy as np\n",
    "\n",
    "# Se define el tablero de Sudoku (0 representa celdas vacías)\n",
    "board = np.array([\n",
    "    [5, 3, 0, 0, 7, 0, 0, 0, 0],\n",
    "    [6, 0, 0, 1, 9, 5, 0, 0, 0],\n",
    "    [0, 9, 8, 0, 0, 0, 0, 6, 0],\n",
    "    [8, 0, 0, 0, 6, 0, 0, 0, 3],\n",
    "    [4, 0, 0, 8, 0, 3, 0, 0, 1],\n",
    "    [7, 0, 0, 0, 2, 0, 0, 0, 6],\n",
    "    [0, 6, 0, 0, 0, 0, 2, 8, 0],\n",
    "    [0, 0, 0, 4, 1, 9, 0, 0, 5],\n",
    "    [0, 0, 0, 0, 8, 0, 0, 7, 9]\n",
    "])\n",
    "\n",
    "cambio = True\n",
    "while cambio:\n",
    "    cambio = False\n",
    "    # Recorre cada celda del tablero\n",
    "    for i in range(9):\n",
    "        for j in range(9):\n",
    "            if board[i, j] == 0:\n",
    "                # Obtiene los números ya usados en la fila, columna y bloque 3x3\n",
    "                usados_fila = set(board[i, :])\n",
    "                usados_col = set(board[:, j])\n",
    "                bi = (i // 3) * 3\n",
    "                bj = (j // 3) * 3\n",
    "                usados_bloque = set(board[bi:bi+3, bj:bj+3].flatten())\n",
    "                usados = usados_fila.union(usados_col).union(usados_bloque)\n",
    "                # Calcula los candidatos (números del 1 al 9 que no están en 'usados')\n",
    "                candidatos = [n for n in range(1, 10) if n not in usados]\n",
    "                # Si solo hay un candidato, se asigna ese número\n",
    "                if len(candidatos) == 1:\n",
    "                    board[i, j] = candidatos[0]\n",
    "                    cambio = True\n",
    "\n",
    "print(\"Sudoku resuelto (método de eliminación simple):\")\n",
    "for fila in board:\n",
    "    print(\" \".join(str(num) for num in fila))\n"
   ]
  }
 ],
 "metadata": {
  "kernelspec": {
   "display_name": "pythoncourse",
   "language": "python",
   "name": "python3"
  },
  "language_info": {
   "codemirror_mode": {
    "name": "ipython",
    "version": 3
   },
   "file_extension": ".py",
   "mimetype": "text/x-python",
   "name": "python",
   "nbconvert_exporter": "python",
   "pygments_lexer": "ipython3",
   "version": "3.12.9"
  }
 },
 "nbformat": 4,
 "nbformat_minor": 2
}
