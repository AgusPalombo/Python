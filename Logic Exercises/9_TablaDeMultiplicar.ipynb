{
 "cells": [
  {
   "cell_type": "markdown",
   "metadata": {},
   "source": [
    "**Tabla de multiplicar**\n",
    "---\n",
    "\n",
    "**Escribe una función tabla_multiplicar(n) que reciba un número y devuelva una lista con los resultados de su tabla del 1 al 10.**\n",
    "\n",
    "---"
   ]
  },
  {
   "cell_type": "code",
   "execution_count": 3,
   "metadata": {},
   "outputs": [
    {
     "name": "stdout",
     "output_type": "stream",
     "text": [
      "La tabla de multiplicar de 12 es:\n",
      "12 x 1 = 12\n",
      "12 x 2 = 24\n",
      "12 x 3 = 36\n",
      "12 x 4 = 48\n",
      "12 x 5 = 60\n",
      "12 x 6 = 72\n",
      "12 x 7 = 84\n",
      "12 x 8 = 96\n",
      "12 x 9 = 108\n",
      "12 x 10 = 120\n"
     ]
    }
   ],
   "source": [
    "# Ingresar un numero\n",
    "n =  int(input(\"Ingrese un numero: \"))\n",
    "\n",
    "def tabla_multiplicar(n):\n",
    "    # Imprimir la tabla de multiplicar del numero ingresado\n",
    "    tabla = [n * i for i in range(1, 11)]\n",
    "    return tabla\n",
    "\n",
    "# Llamar a la funcion y almacenar el resultado\n",
    "resultado = tabla_multiplicar(n)\n",
    "\n",
    "print(\"La tabla de multiplicar de\", n, \"es:\")\n",
    "for i in range(10):\n",
    "    print(f\"{n} x {i + 1} = {resultado[i]}\")\n",
    "        \n"
   ]
  }
 ],
 "metadata": {
  "kernelspec": {
   "display_name": "pythoncourse",
   "language": "python",
   "name": "python3"
  },
  "language_info": {
   "codemirror_mode": {
    "name": "ipython",
    "version": 3
   },
   "file_extension": ".py",
   "mimetype": "text/x-python",
   "name": "python",
   "nbconvert_exporter": "python",
   "pygments_lexer": "ipython3",
   "version": "3.12.9"
  }
 },
 "nbformat": 4,
 "nbformat_minor": 2
}
