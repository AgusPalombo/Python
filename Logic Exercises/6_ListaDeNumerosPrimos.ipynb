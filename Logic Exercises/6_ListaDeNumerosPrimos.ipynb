{
 "cells": [
  {
   "cell_type": "markdown",
   "metadata": {},
   "source": [
    "**Lista de Números Primos**\n",
    "---\n",
    "Instrucciones:\n",
    "Escribe un programa que solicite un número N y genere una lista con todos los números primos desde 2 hasta N. El programa debe incluir una función que verifique si un número es primo.\n",
    "\n",
    "----"
   ]
  },
  {
   "cell_type": "code",
   "execution_count": null,
   "metadata": {},
   "outputs": [
    {
     "name": "stdout",
     "output_type": "stream",
     "text": [
      "Los números primos hasta 5 son:\n",
      "2 3 5 "
     ]
    }
   ],
   "source": [
    "# Solicitar un número al usuario\n",
    "\n",
    "numero = int(input(\"Ingrese un número: \"))\n",
    "\n",
    "# Verificar si el número es primo\n",
    "def es_primo(n):\n",
    "    if n <= 1:\n",
    "        return False\n",
    "    for i in range(2, n):\n",
    "        if n % i == 0:\n",
    "            return False\n",
    "    return True\n",
    "\n",
    "\n",
    "# Obtener todos los numeros primos hasta el número ingresado\n",
    "primos = []\n",
    "for i in range(1, numero + 1):\n",
    "    if es_primo(i) == True:\n",
    "        primos.append(i)\n",
    "\n",
    "# Mostrar los números primos encontrados\n",
    "print(\"Los números primos hasta\", numero, \"son:\")\n",
    "for primo in primos:\n",
    "    print(primo, end=\" \")"
   ]
  }
 ],
 "metadata": {
  "kernelspec": {
   "display_name": "pythoncourse",
   "language": "python",
   "name": "python3"
  },
  "language_info": {
   "codemirror_mode": {
    "name": "ipython",
    "version": 3
   },
   "file_extension": ".py",
   "mimetype": "text/x-python",
   "name": "python",
   "nbconvert_exporter": "python",
   "pygments_lexer": "ipython3",
   "version": "3.12.9"
  }
 },
 "nbformat": 4,
 "nbformat_minor": 2
}
