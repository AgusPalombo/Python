{
 "cells": [
  {
   "cell_type": "markdown",
   "metadata": {},
   "source": [
    "**Adivina el Número**\n",
    "------\n",
    "**Instrucciones:**\n",
    "El programa genera un número aleatorio en un rango determinado (por ejemplo, 1 a 100) y le pide al usuario que adivine el número. Después de cada intento, el programa indica si el número ingresado es mayor o menor que el número secreto. El juego continúa hasta que el usuario acierta.\n",
    "\n",
    "***Asegurese de importar la libreria random, ejecutar el codigo de creacion del numero random y ejecute la logica del juego***\n"
   ]
  },
  {
   "cell_type": "code",
   "execution_count": 1,
   "metadata": {},
   "outputs": [],
   "source": [
    "import random"
   ]
  },
  {
   "cell_type": "code",
   "execution_count": 13,
   "metadata": {},
   "outputs": [],
   "source": [
    "num = random.randint(1, 101)"
   ]
  },
  {
   "cell_type": "code",
   "execution_count": 12,
   "metadata": {},
   "outputs": [
    {
     "name": "stdout",
     "output_type": "stream",
     "text": [
      "¡Felicidades! Adivinaste el número, este era: 12\n"
     ]
    }
   ],
   "source": [
    "opcion = int(input(\"Adivina el número: \"))\n",
    "\n",
    "while opcion != num:\n",
    "    if opcion > num:\n",
    "        print(\"El número es menor\")\n",
    "        opcion = int(input(\"Adivina el número: \"))\n",
    "    else:\n",
    "        print(\"El número es mayor\")\n",
    "        opcion = int(input(\"Adivina el número: \"))\n",
    "\n",
    "print(\"¡Felicidades! Adivinaste el número, este era:\",num)"
   ]
  }
 ],
 "metadata": {
  "kernelspec": {
   "display_name": "pythoncourse",
   "language": "python",
   "name": "python3"
  },
  "language_info": {
   "codemirror_mode": {
    "name": "ipython",
    "version": 3
   },
   "file_extension": ".py",
   "mimetype": "text/x-python",
   "name": "python",
   "nbconvert_exporter": "python",
   "pygments_lexer": "ipython3",
   "version": "3.12.9"
  }
 },
 "nbformat": 4,
 "nbformat_minor": 2
}
