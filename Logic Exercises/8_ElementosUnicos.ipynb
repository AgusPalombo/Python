{
 "cells": [
  {
   "cell_type": "markdown",
   "metadata": {},
   "source": [
    "**Contar elementos únicos**\n",
    "---\n",
    "Dada una lista, escribe una función contar_unicos(lista) que retorne cuántos elementos únicos (no repetidos) tiene.\n",
    "\n",
    "---\n"
   ]
  },
  {
   "cell_type": "code",
   "execution_count": 2,
   "metadata": {},
   "outputs": [
    {
     "name": "stdout",
     "output_type": "stream",
     "text": [
      "Por favor, introduce un número válido.\n",
      "Lista de números: [1, 1, 2, 3, 4, 4, 5, 3]\n",
      "Números únicos en la lista: {2, 5}\n"
     ]
    }
   ],
   "source": [
    "# Pedir una lista de numeros al usuario\n",
    "lista = []\n",
    "\n",
    "while input(\"¿Quieres añadir un número a la lista? (s/n): \").lower() == 's':\n",
    "    try:\n",
    "        numero = int(input(\"Introduce un número: \"))\n",
    "        lista.append(numero)\n",
    "    except ValueError:\n",
    "        print(\"Por favor, introduce un número válido.\")\n",
    "        \n",
    "# Mostrar la lista de números\n",
    "print(\"Lista de números:\", lista)\n",
    "\n",
    "# Funcion contar_unicos\n",
    "def contar_unicos(lista):\n",
    "    unicos = set()\n",
    "    # contar elementos si son unicos\n",
    "    for numero in lista:\n",
    "        if lista.count(numero) == 1:\n",
    "            unicos.add(numero)\n",
    "    return unicos\n",
    "\n",
    "# llamar a la funcion contar_unicos\n",
    "unicos = contar_unicos(lista)\n",
    "print(\"Números únicos en la lista:\", unicos)\n",
    "        \n",
    "        "
   ]
  }
 ],
 "metadata": {
  "kernelspec": {
   "display_name": "pythoncourse",
   "language": "python",
   "name": "python3"
  },
  "language_info": {
   "codemirror_mode": {
    "name": "ipython",
    "version": 3
   },
   "file_extension": ".py",
   "mimetype": "text/x-python",
   "name": "python",
   "nbconvert_exporter": "python",
   "pygments_lexer": "ipython3",
   "version": "3.12.9"
  }
 },
 "nbformat": 4,
 "nbformat_minor": 2
}
