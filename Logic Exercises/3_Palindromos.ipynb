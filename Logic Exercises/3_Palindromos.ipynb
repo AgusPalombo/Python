{
 "cells": [
  {
   "cell_type": "markdown",
   "metadata": {},
   "source": [
    "**Comprobador de Palíndromos**\n",
    "-----\n",
    "\n",
    "**Instrucciones:**\n",
    "Escribe una función que verifique si una palabra o frase es un palíndromo. El programa debe ignorar mayúsculas, espacios y, si lo deseas, signos de puntuación."
   ]
  },
  {
   "cell_type": "code",
   "execution_count": 4,
   "metadata": {},
   "outputs": [
    {
     "name": "stdout",
     "output_type": "stream",
     "text": [
      "La palabra es un palíndromo\n"
     ]
    }
   ],
   "source": [
    "entrada = input(\"Escriba una palabra:\").lower()\n",
    "# eliminar espacios \n",
    "entrada_limpia = entrada.replace(\" \", \"\")\n",
    "# eliminar caracteres especiales\n",
    "entrada_limpia = ''.join(e for e in entrada_limpia if e.isalnum())\n",
    "\n",
    "if entrada_limpia == entrada_limpia[::-1]:\n",
    "    print(\"La palabra es un palíndromo\")\n",
    "else:\n",
    "    print(\"La palabra no es un palíndromo\")"
   ]
  }
 ],
 "metadata": {
  "kernelspec": {
   "display_name": "pythoncourse",
   "language": "python",
   "name": "python3"
  },
  "language_info": {
   "codemirror_mode": {
    "name": "ipython",
    "version": 3
   },
   "file_extension": ".py",
   "mimetype": "text/x-python",
   "name": "python",
   "nbconvert_exporter": "python",
   "pygments_lexer": "ipython3",
   "version": "3.12.9"
  }
 },
 "nbformat": 4,
 "nbformat_minor": 2
}
