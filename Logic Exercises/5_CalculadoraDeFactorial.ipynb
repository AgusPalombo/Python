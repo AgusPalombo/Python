{
 "cells": [
  {
   "cell_type": "markdown",
   "metadata": {},
   "source": [
    "**Calculadora de Factorial**\n",
    "---\n",
    "\n",
    "Instrucciones:\n",
    "Crea una función que calcule el factorial de un número ingresado por el usuario. Puedes implementar la solución de forma iterativa o recursiva.\n",
    "\n",
    "---"
   ]
  },
  {
   "cell_type": "code",
   "execution_count": 5,
   "metadata": {},
   "outputs": [
    {
     "name": "stdout",
     "output_type": "stream",
     "text": [
      "El factorial de 99 es 933262154439441526816992388562667004907159682643816214685929638952175999932299156089414639761565182862536979208272237582511852109168640000000000000000000000.\n"
     ]
    }
   ],
   "source": [
    "entrada = int(input(\"Ingrese un numero: \"))\n",
    "\n",
    "factorial = 1\n",
    "\n",
    "for i in range(1, entrada + 1):\n",
    "    factorial *= i\n",
    "\n",
    "print(f\"El factorial de {entrada} es {factorial}.\")\n"
   ]
  }
 ],
 "metadata": {
  "kernelspec": {
   "display_name": "pythoncourse",
   "language": "python",
   "name": "python3"
  },
  "language_info": {
   "codemirror_mode": {
    "name": "ipython",
    "version": 3
   },
   "file_extension": ".py",
   "mimetype": "text/x-python",
   "name": "python",
   "nbconvert_exporter": "python",
   "pygments_lexer": "ipython3",
   "version": "3.12.9"
  }
 },
 "nbformat": 4,
 "nbformat_minor": 2
}
