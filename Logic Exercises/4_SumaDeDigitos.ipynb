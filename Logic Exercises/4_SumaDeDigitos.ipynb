{
 "cells": [
  {
   "cell_type": "markdown",
   "metadata": {},
   "source": [
    "**Suma de Dígitos**\n",
    "\n",
    "Instrucciones:\n",
    "Desarrolla un programa que solicite un número entero al usuario y sume todos sus dígitos, mostrando el resultado final.\n",
    "\n",
    "---"
   ]
  },
  {
   "cell_type": "code",
   "execution_count": 16,
   "metadata": {},
   "outputs": [
    {
     "name": "stdout",
     "output_type": "stream",
     "text": [
      "La suma de los dígitos es: 10\n"
     ]
    }
   ],
   "source": [
    "entrada = int(input(\"Ingrese un número entero: \"))\n",
    "\n",
    "suma = 0\n",
    "\n",
    "numeros = [int(x) for x in str(entrada)]\n",
    "\n",
    "for i in range(len(numeros)):\n",
    "    suma += numeros[i]\n",
    "\n",
    "print(\"La suma de los dígitos es:\", suma)\n",
    "\n"
   ]
  }
 ],
 "metadata": {
  "kernelspec": {
   "display_name": "pythoncourse",
   "language": "python",
   "name": "python3"
  },
  "language_info": {
   "codemirror_mode": {
    "name": "ipython",
    "version": 3
   },
   "file_extension": ".py",
   "mimetype": "text/x-python",
   "name": "python",
   "nbconvert_exporter": "python",
   "pygments_lexer": "ipython3",
   "version": "3.12.9"
  }
 },
 "nbformat": 4,
 "nbformat_minor": 2
}
