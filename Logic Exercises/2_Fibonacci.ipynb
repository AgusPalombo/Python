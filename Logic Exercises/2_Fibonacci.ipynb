{
 "cells": [
  {
   "cell_type": "markdown",
   "metadata": {},
   "source": [
    "**Secuencia Fibonacci**\n",
    "-------\n",
    "\n",
    "**Instrucciones:**\n",
    "Crea un programa que solicite al usuario la cantidad de términos y genere la secuencia de Fibonacci, en la cual cada número es la suma de los dos anteriores, empezando por 0 y 1.\n",
    "\n",
    "F(n)=F(n−1)+F(n−2)"
   ]
  },
  {
   "cell_type": "code",
   "execution_count": 37,
   "metadata": {},
   "outputs": [
    {
     "name": "stdout",
     "output_type": "stream",
     "text": [
      "El Fibonacci de 2977 es: 6407963392187304281841798272438232739061872369090499679936138002595969954995729996009530986752109075490051342912392248623002336700669598411106793503052752723598889191673739937391338517423536932467913589952955855532554719235123208122959284659115605908144133451198231142220455548755354177333029633761777570702667664770494029983753498878472002972562771591885726527131493259605057060422439458532060800482335286755275000842531387940393774981855067577095992967938702710151252057439534085464894610958094243811241939147790325325216820797135050184750301300622765184357290880091188901469612393283497023514113667265452508865061086657\n"
     ]
    }
   ],
   "source": [
    "#Version optimizada\n",
    "def fibonacci(n, memo={}):\n",
    "    if n in memo:\n",
    "        return memo[n]\n",
    "    if n <= 1:\n",
    "        return n\n",
    "    memo[n] = fibonacci(n - 1, memo) + fibonacci(n - 2, memo)\n",
    "    return memo[n]\n",
    "\n",
    "while True:\n",
    "    try:\n",
    "        num = int(input(\"Ingrese un número entero no negativo: \"))\n",
    "        if num < 0:\n",
    "            print(\"Por favor, ingrese un número no negativo.\")\n",
    "            continue\n",
    "        break\n",
    "    except ValueError:\n",
    "        print(\"Entrada inválida. Intente de nuevo con un número entero.\")\n",
    "\n",
    "result = fibonacci(num)\n",
    "print(f\"El Fibonacci de {num} es: {result}\")\n"
   ]
  },
  {
   "cell_type": "code",
   "execution_count": null,
   "metadata": {},
   "outputs": [],
   "source": [
    "def fibonacci(n):\n",
    "    if n<=1:\n",
    "        return n\n",
    "    else:\n",
    "        return fibonacci(n-1) + fibonacci(n-2)\n",
    "    \n",
    "while True:\n",
    "    try:\n",
    "        num = int(input(\"Ingrese un número entero no negativo: \"))\n",
    "        if num < 0:\n",
    "            print(\"Por favor, ingrese un número no negativo.\")\n",
    "            continue\n",
    "        break\n",
    "    except ValueError:\n",
    "        print(\"Entrada inválida. Intente de nuevo con un número entero.\")\n",
    "\n",
    "result = fibonacci(num)\n",
    "print(f\"El Fibonacci de {num} es: {result}\")"
   ]
  }
 ],
 "metadata": {
  "kernelspec": {
   "display_name": "pythoncourse",
   "language": "python",
   "name": "python3"
  },
  "language_info": {
   "codemirror_mode": {
    "name": "ipython",
    "version": 3
   },
   "file_extension": ".py",
   "mimetype": "text/x-python",
   "name": "python",
   "nbconvert_exporter": "python",
   "pygments_lexer": "ipython3",
   "version": "3.12.9"
  }
 },
 "nbformat": 4,
 "nbformat_minor": 2
}
