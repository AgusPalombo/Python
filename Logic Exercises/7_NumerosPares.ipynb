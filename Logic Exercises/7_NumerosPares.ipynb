{
 "cells": [
  {
   "cell_type": "markdown",
   "metadata": {},
   "source": [
    "**Números pares con loops**\n",
    "---\n",
    "\n",
    "Escribe una función numeros_pares(n) que reciba un número n y retorne una lista con todos los números pares desde 0 hasta n (inclusive si n es par).\n",
    "\n",
    "----"
   ]
  },
  {
   "cell_type": "code",
   "execution_count": 1,
   "metadata": {},
   "outputs": [
    {
     "name": "stdout",
     "output_type": "stream",
     "text": [
      "Los números pares desde 1 hasta 12 son: [2, 4, 6, 8, 10, 12]\n"
     ]
    }
   ],
   "source": [
    "# Solicitar un numero\n",
    "\n",
    "numero = int(input(\"Introduce un número: \"))\n",
    "\n",
    "# Definir una función que verifique si el número es par y genere una lista de números pares\n",
    "\n",
    "def es_par(n):\n",
    "    if n % 2 == 0:\n",
    "        return True\n",
    "    else:\n",
    "        return False\n",
    "    \n",
    "def lista_pares(n):\n",
    "    lista = []\n",
    "    for i in range(1, n + 1):\n",
    "        if es_par(i):\n",
    "            lista.append(i)\n",
    "    return lista\n",
    "\n",
    "# Llamar a la función y mostrar el resultado\n",
    "pares = lista_pares(numero)\n",
    "print(f\"Los números pares desde 1 hasta {numero} son: {pares}\")"
   ]
  }
 ],
 "metadata": {
  "kernelspec": {
   "display_name": "pythoncourse",
   "language": "python",
   "name": "python3"
  },
  "language_info": {
   "codemirror_mode": {
    "name": "ipython",
    "version": 3
   },
   "file_extension": ".py",
   "mimetype": "text/x-python",
   "name": "python",
   "nbconvert_exporter": "python",
   "pygments_lexer": "ipython3",
   "version": "3.12.9"
  }
 },
 "nbformat": 4,
 "nbformat_minor": 2
}
