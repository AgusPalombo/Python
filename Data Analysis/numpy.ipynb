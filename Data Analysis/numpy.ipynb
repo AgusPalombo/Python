{
 "cells": [
  {
   "cell_type": "code",
   "execution_count": 18,
   "metadata": {},
   "outputs": [
    {
     "name": "stdout",
     "output_type": "stream",
     "text": [
      "32\n",
      "32\n",
      "[ 4 10 18]\n",
      "Resultado de Broadcasting: [6 7 8]\n"
     ]
    }
   ],
   "source": [
    "import numpy as np\n",
    "\n",
    "v1 = np.array([1, 2, 3])\n",
    "v2 = np.array([4, 5, 6])\n",
    "v3 = np.array([7, 8, 9, 10])\n",
    "\n",
    "v12 = v1.dot(v2)\n",
    "\n",
    "print(v12)\n",
    "print(v1 @ v2)\n",
    "\n",
    "v13 = np.multiply(v1, v2)  # This will raise an error because the shapes are not aligned\n",
    "print(v13)\n",
    "\n",
    "# Broadcasting: arreglo 1D con un escalar\n",
    "a = np.array([1, 2, 3])\n",
    "b = 5\n",
    "\n",
    "# El escalar se transmite a todo el arreglo\n",
    "broadcasting_result = a + b\n",
    "print(\"Resultado de Broadcasting:\", broadcasting_result)"
   ]
  },
  {
   "cell_type": "code",
   "execution_count": null,
   "metadata": {},
   "outputs": [],
   "source": [
    "matriz = np.array([[1, 2, 3], [4, 5, 6]])\n",
    "print(\"Matriz original:\\n\", matriz)\n",
    "matriz = matriz.ravel()\n",
    "print(\"Matriz aplanada:\", matriz)"
   ]
  },
  {
   "cell_type": "code",
   "execution_count": 23,
   "metadata": {},
   "outputs": [
    {
     "name": "stdout",
     "output_type": "stream",
     "text": [
      "Suma de v1: 6\n"
     ]
    }
   ],
   "source": [
    "v1= np.array([1, 2, 3], dtype=np.int32)\n",
    "v2= np.array([4, 5, 6], dtype=np.int32)\n",
    "\n",
    "v3 = v1.sum()\n",
    "print(\"Suma de v1:\", v3)"
   ]
  },
  {
   "cell_type": "code",
   "execution_count": 29,
   "metadata": {},
   "outputs": [
    {
     "name": "stdout",
     "output_type": "stream",
     "text": [
      "v1: [1 2 3 4 5]\n",
      "v2: [[ 5  6  7]\n",
      " [ 8  9 10]]\n",
      "Media de v1: 3.0\n",
      "Desviación estándar de v1: 1.4142135623730951\n",
      "Varianza de v1: 2.0\n",
      "Máximo de v1: 5\n",
      "Mínimo de v1: 1\n",
      "Mediana de v1: 3.0\n",
      "Cuartiles de v1: [2. 3. 4.]\n",
      "Cuartiles de v2: [6.25 7.5  8.75]\n",
      "v1: [3 1 4 2]\n",
      "v2: [5 3 2 4]\n",
      "v1 ordenado: [1 2 3 4]\n",
      "v2 ordenado: [2 3 4 5]\n",
      "v1:\n",
      "[[3 1 4]\n",
      " [2 5 3]]\n",
      "v2:\n",
      "[[5 3 2]\n",
      " [4 1 6]]\n",
      "v1 ordenado por filas:\n",
      "[[1 3 4]\n",
      " [2 3 5]]\n",
      "v2 ordenado por filas:\n",
      "[[2 3 5]\n",
      " [1 4 6]]\n"
     ]
    }
   ],
   "source": [
    "# Valore estadisticos\n",
    "v1 = np.array([1, 2, 3, 4, 5])\n",
    "v2 = np.array([[5, 6, 7],[8, 9, 10]])\n",
    "print(f\"v1: {v1}\")\n",
    "print(f\"v2: {v2}\")\n",
    "\n",
    "print(f\"Media de v1: {v1.mean()}\")\n",
    "print(f\"Desviación estándar de v1: {v1.std()}\")\n",
    "print(f\"Varianza de v1: {v1.var()}\")\n",
    "print(f\"Máximo de v1: {v1.max()}\")\n",
    "print(f\"Mínimo de v1: {v1.min()}\")\n",
    "print(f\"Mediana de v1: {np.median(v1)}\")\n",
    "print(f\"Cuartiles de v1: {np.percentile(v1, [25, 50, 75])}\")\n",
    "print(f\"Cuartiles de v2: {np.percentile(v2, [25, 50, 75])}\")\n",
    "\n",
    "#ordenar valores\n",
    "v1 = np.array([3, 1, 4, 2])\n",
    "v2 = np.array([5, 3, 2, 4])\n",
    "print(f\"v1: {v1}\")\n",
    "print(f\"v2: {v2}\")\n",
    "print(f\"v1 ordenado: {np.sort(v1)}\")\n",
    "print(f\"v2 ordenado: {np.sort(v2)}\")\n",
    "\n",
    "#ordenar por filas\n",
    "v1 = np.array([[3, 1, 4], [2, 5, 3]])\n",
    "v2 = np.array([[5, 3, 2], [4, 1, 6]])\n",
    "print(f\"v1:\\n{v1}\")\n",
    "print(f\"v2:\\n{v2}\")\n",
    "print(f\"v1 ordenado por filas:\\n{np.sort(v1, axis=1)}\")\n",
    "print(f\"v2 ordenado por filas:\\n{np.sort(v2, axis=1)}\")\n",
    "\n"
   ]
  },
  {
   "cell_type": "code",
   "execution_count": 28,
   "metadata": {},
   "outputs": [
    {
     "name": "stdout",
     "output_type": "stream",
     "text": [
      "v1:\n",
      "[[3 1 4]\n",
      " [2 5 3]]\n",
      "v2:\n",
      "[[5 3 2]\n",
      " [4 1 6]]\n",
      "v1 ordenado por columnas:\n",
      "[[2 1 3]\n",
      " [3 5 4]]\n",
      "v2 ordenado por columnas:\n",
      "[[4 1 2]\n",
      " [5 3 6]]\n"
     ]
    }
   ],
   "source": [
    "#ordenar por columnas\n",
    "v1 = np.array([[3, 1, 4], [2, 5, 3]])\n",
    "v2 = np.array([[5, 3, 2], [4, 1, 6]])\n",
    "print(f\"v1:\\n{v1}\")\n",
    "print(f\"v2:\\n{v2}\")\n",
    "print(f\"v1 ordenado por columnas:\\n{np.sort(v1, axis=0)}\")\n",
    "print(f\"v2 ordenado por columnas:\\n{np.sort(v2, axis=0)}\")"
   ]
  }
 ],
 "metadata": {
  "kernelspec": {
   "display_name": "pythoncourse",
   "language": "python",
   "name": "python3"
  },
  "language_info": {
   "codemirror_mode": {
    "name": "ipython",
    "version": 3
   },
   "file_extension": ".py",
   "mimetype": "text/x-python",
   "name": "python",
   "nbconvert_exporter": "python",
   "pygments_lexer": "ipython3",
   "version": "3.12.9"
  }
 },
 "nbformat": 4,
 "nbformat_minor": 2
}
