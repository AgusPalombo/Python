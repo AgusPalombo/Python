{
 "cells": [
  {
   "cell_type": "code",
   "execution_count": 1,
   "metadata": {},
   "outputs": [],
   "source": [
    "import pandas as pd"
   ]
  },
  {
   "cell_type": "code",
   "execution_count": 2,
   "metadata": {},
   "outputs": [],
   "source": [
    "\n",
    "# 1. Crear DataFrames\n",
    "ventas = pd.DataFrame({\n",
    "    'VentaID': [1, 2, 3, 4, 5],\n",
    "    'ClienteID': [101, 102, 103, 101, 104],\n",
    "    'Producto': ['Producto A', 'Producto B', 'Producto A', 'Producto C', 'Producto B'],\n",
    "    'Fecha': ['2024-01-15', '2024-01-18', '2024-02-10', '2024-02-15', '2024-03-01'],\n",
    "    'Cantidad': [2, 1, 3, 1, 2],\n",
    "    'PrecioUnitario': [100, 200, 100, 150, 200]\n",
    "})\n",
    "\n",
    "clientes = pd.DataFrame({\n",
    "    'ClienteID': [101, 102, 103, 104],\n",
    "    'NombreCliente': ['Ana', 'Luis', 'Laura', 'Pedro'],\n",
    "    'Region': ['Norte', 'Sur', 'Este', 'Oeste']\n",
    "})"
   ]
  },
  {
   "cell_type": "code",
   "execution_count": 3,
   "metadata": {},
   "outputs": [],
   "source": [
    "# 2. Merge entre ventas y clientes\n",
    "df = pd.merge(ventas, clientes, on='ClienteID', how='inner')"
   ]
  },
  {
   "cell_type": "code",
   "execution_count": 4,
   "metadata": {},
   "outputs": [
    {
     "name": "stdout",
     "output_type": "stream",
     "text": [
      "   VentaID  ClienteID    Producto      Fecha  Cantidad  PrecioUnitario  \\\n",
      "0        1        101  Producto A 2024-01-15         2             100   \n",
      "1        2        102  Producto B 2024-01-18         1             200   \n",
      "2        3        103  Producto A 2024-02-10         3             100   \n",
      "3        4        101  Producto C 2024-02-15         1             150   \n",
      "4        5        104  Producto B 2024-03-01         2             200   \n",
      "\n",
      "  NombreCliente Region  TotalVenta       Mes  \n",
      "0           Ana  Norte         200   January  \n",
      "1          Luis    Sur         200   January  \n",
      "2         Laura   Este         300  February  \n",
      "3           Ana  Norte         150  February  \n",
      "4         Pedro  Oeste         400     March  \n"
     ]
    }
   ],
   "source": [
    "# 3. Crear TotalVenta\n",
    "df['TotalVenta'] = df['Cantidad'] * df['PrecioUnitario']\n",
    "\n",
    "# 4. Convertir Fecha a datetime\n",
    "df['Fecha'] = pd.to_datetime(df['Fecha'])\n",
    "\n",
    "# 5. Extraer el mes\n",
    "df['Mes'] = df['Fecha'].dt.month_name()\n",
    "\n",
    "# Mostrar resultado intermedio\n",
    "print(df)"
   ]
  },
  {
   "cell_type": "code",
   "execution_count": 5,
   "metadata": {},
   "outputs": [
    {
     "name": "stdout",
     "output_type": "stream",
     "text": [
      "Mes     February  January  March\n",
      "Region                          \n",
      "Este         300        0      0\n",
      "Norte        150      200      0\n",
      "Oeste          0        0    400\n",
      "Sur            0      200      0\n"
     ]
    }
   ],
   "source": [
    "# Crear Pivot Table\n",
    "tabla_pivot = pd.pivot_table(df, values='TotalVenta', index='Region', columns='Mes', aggfunc='sum', fill_value=0)\n",
    "print(tabla_pivot)\n"
   ]
  },
  {
   "cell_type": "code",
   "execution_count": null,
   "metadata": {},
   "outputs": [
    {
     "name": "stdout",
     "output_type": "stream",
     "text": [
      "               sum   mean\n",
      "NombreCliente            \n",
      "Ana            350  175.0\n",
      "Laura          300  300.0\n",
      "Luis           200  200.0\n",
      "Pedro          400  400.0\n"
     ]
    }
   ],
   "source": [
    "# Agrupar por cliente\n",
    "#Total de ventas (sum) y Promedio de venta por operación (mean)\n",
    "resumen_cliente = df.groupby('NombreCliente')['TotalVenta'].agg(['sum', 'mean'])\n",
    "print(resumen_cliente)\n"
   ]
  },
  {
   "cell_type": "code",
   "execution_count": 7,
   "metadata": {},
   "outputs": [
    {
     "name": "stdout",
     "output_type": "stream",
     "text": [
      "Region  Mes     \n",
      "Este    February    300\n",
      "        January       0\n",
      "        March         0\n",
      "Norte   February    150\n",
      "        January     200\n",
      "        March         0\n",
      "Oeste   February      0\n",
      "        January       0\n",
      "        March       400\n",
      "Sur     February      0\n",
      "        January     200\n",
      "        March         0\n",
      "dtype: int64\n"
     ]
    }
   ],
   "source": [
    "# Aplicar stack a la Pivot Table\n",
    "tabla_stack = tabla_pivot.stack()\n",
    "print(tabla_stack)\n"
   ]
  },
  {
   "cell_type": "code",
   "execution_count": 8,
   "metadata": {},
   "outputs": [
    {
     "name": "stdout",
     "output_type": "stream",
     "text": [
      "Mes     February  January  March\n",
      "Region                          \n",
      "Este         300        0      0\n",
      "Norte        150      200      0\n",
      "Oeste          0        0    400\n",
      "Sur            0      200      0\n"
     ]
    }
   ],
   "source": [
    "# Aplicar unstack\n",
    "tabla_unstack = tabla_stack.unstack()\n",
    "print(tabla_unstack)\n"
   ]
  }
 ],
 "metadata": {
  "kernelspec": {
   "display_name": "pythoncourse",
   "language": "python",
   "name": "python3"
  },
  "language_info": {
   "codemirror_mode": {
    "name": "ipython",
    "version": 3
   },
   "file_extension": ".py",
   "mimetype": "text/x-python",
   "name": "python",
   "nbconvert_exporter": "python",
   "pygments_lexer": "ipython3",
   "version": "3.12.9"
  }
 },
 "nbformat": 4,
 "nbformat_minor": 2
}
