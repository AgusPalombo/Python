{
 "cells": [
  {
   "cell_type": "markdown",
   "metadata": {},
   "source": [
    "🔁 Ejercicio 1: Números pares con loops\n",
    "Escribe una función numeros_pares(n) que reciba un número n y retorne una lista con todos los números pares desde 0 hasta n (inclusive si n es par)."
   ]
  },
  {
   "cell_type": "code",
   "execution_count": 2,
   "metadata": {},
   "outputs": [],
   "source": [
    "#numeros_pares(10)  # → [0, 2, 4, 6, 8, 10]"
   ]
  },
  {
   "cell_type": "markdown",
   "metadata": {},
   "source": [
    "🔢 Ejercicio 2: Suma de los dígitos\n",
    "Escribe una función suma_digitos(numero) que reciba un número entero positivo y devuelva la suma de sus dígitos."
   ]
  },
  {
   "cell_type": "code",
   "execution_count": 3,
   "metadata": {},
   "outputs": [],
   "source": [
    "#suma_digitos(1234)  # → 10"
   ]
  },
  {
   "cell_type": "markdown",
   "metadata": {},
   "source": [
    "🧮 Ejercicio 3: Contar elementos únicos\n",
    "Dada una lista, escribe una función contar_unicos(lista) que retorne cuántos elementos únicos (no repetidos) tiene."
   ]
  },
  {
   "cell_type": "code",
   "execution_count": 4,
   "metadata": {},
   "outputs": [],
   "source": [
    "#contar_unicos([1, 2, 2, 3, 4, 4])  # → 4"
   ]
  },
  {
   "cell_type": "markdown",
   "metadata": {},
   "source": [
    "🔠 Ejercicio 4: Palíndromos\n",
    "Escribe una función es_palindromo(cadena) que determine si una cadena de texto es un palíndromo (se lee igual al derecho y al revés). Ignora mayúsculas y espacios."
   ]
  },
  {
   "cell_type": "code",
   "execution_count": 5,
   "metadata": {},
   "outputs": [],
   "source": [
    "#es_palindromo(\"Anita lava la tina\")  # → True"
   ]
  },
  {
   "cell_type": "markdown",
   "metadata": {},
   "source": [
    "🧮 Ejercicio 5: Tabla de multiplicar\n",
    "Escribe una función tabla_multiplicar(n) que reciba un número y devuelva una lista con los resultados de su tabla del 1 al 10."
   ]
  },
  {
   "cell_type": "code",
   "execution_count": 6,
   "metadata": {},
   "outputs": [],
   "source": [
    "#tabla_multiplicar(5)  # → [5, 10, 15, 20, ..., 50]"
   ]
  }
 ],
 "metadata": {
  "kernelspec": {
   "display_name": "pythoncourse",
   "language": "python",
   "name": "python3"
  },
  "language_info": {
   "codemirror_mode": {
    "name": "ipython",
    "version": 3
   },
   "file_extension": ".py",
   "mimetype": "text/x-python",
   "name": "python",
   "nbconvert_exporter": "python",
   "pygments_lexer": "ipython3",
   "version": "3.12.9"
  }
 },
 "nbformat": 4,
 "nbformat_minor": 2
}
